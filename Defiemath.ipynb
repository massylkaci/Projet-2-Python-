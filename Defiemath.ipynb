{
 "cells": [
  {
   "cell_type": "code",
   "execution_count": 16,
   "metadata": {
    "scrolled": true
   },
   "outputs": [
    {
     "name": "stdout",
     "output_type": "stream",
     "text": [
      "Etudiants participants à la feuille : \n",
      " KACI Massyl 201500008702 \n",
      " REDJEL Abdelghafour 201500008918 \n",
      " MEKHMOUKHEN Massinissa 201500008555\n"
     ]
    }
   ],
   "source": [
    "print(\"Etudiants participants à la feuille : \\n KACI Massyl 201500008702 \\n REDJEL Abdelghafour 201500008918 \\n MEKHMOUKHEN Massinissa 201500008555\")"
   ]
  },
  {
   "cell_type": "code",
   "execution_count": 11,
   "metadata": {},
   "outputs": [
    {
     "name": "stdout",
     "output_type": "stream",
     "text": [
      "Défie mathématique\n"
     ]
    }
   ],
   "source": [
    "print(\"Défie mathématique\")"
   ]
  },
  {
   "cell_type": "code",
   "execution_count": 13,
   "metadata": {},
   "outputs": [
    {
     "name": "stdout",
     "output_type": "stream",
     "text": [
      "1.1 Le carré parfait\n"
     ]
    }
   ],
   "source": [
    "print(\"1.1 Le carré parfait\")"
   ]
  },
  {
   "cell_type": "code",
   "execution_count": 3,
   "metadata": {},
   "outputs": [],
   "source": [
    "from math import *\n",
    "def C(a,b):\n",
    "    L=[] \n",
    "    y=a\n",
    "    z=b\n",
    "    while(y<=z): \n",
    "        L.append(y) # On met dans L tous les nombres compris entre a et b\n",
    "        y=y+1\n",
    "    E=[]\n",
    "    i=1\n",
    "    j=(2**(len(L)))-1\n",
    "    while (i<=j):\n",
    "        D=[]\n",
    "        k=0\n",
    "        l=(len(L))-1\n",
    "        while(k<=l):\n",
    "            if ((i>>k) & (1==1)):\n",
    "                D.append(L[k])\n",
    "            k=k+1\n",
    "        E.append(D) # On met dans E tous les sous ensemble de l'ensemble L\n",
    "        i=i+1 \n",
    "    c=0 # c est le nombr des carrés parfaits de notre ensemble L, il est initialisé au départ à 0\n",
    "    i=0\n",
    "    while(i<(len(E))):\n",
    "        j=0\n",
    "        x=1\n",
    "        while(j<(len(E[i]))):\n",
    "            x=x*(E[i][j]) # On met dans x la valeur du produit de tous les éléments du i-ème sous ensemble de L\n",
    "            j=j+1\n",
    "        if ((sqrt(x))==int(sqrt(x))): \n",
    "            c=c+1 # Si x est un carré parfait, alors on ajoute 1 au nombres des carrés parfaits de notre ensemble L\n",
    "        i=i+1\n",
    "    print (\"C (\",a,\",\",b, \") =\" ,c) # Affichage du résultat\n",
    "    return c"
   ]
  },
  {
   "cell_type": "code",
   "execution_count": 6,
   "metadata": {},
   "outputs": [
    {
     "name": "stdout",
     "output_type": "stream",
     "text": [
      "C ( 40 , 55 ) = 15\n"
     ]
    },
    {
     "data": {
      "text/plain": [
       "15"
      ]
     },
     "execution_count": 6,
     "metadata": {},
     "output_type": "execute_result"
    }
   ],
   "source": [
    "C(40,55)"
   ]
  },
  {
   "cell_type": "code",
   "execution_count": 17,
   "metadata": {},
   "outputs": [
    {
     "name": "stdout",
     "output_type": "stream",
     "text": [
      "1.2 Exponentiation efficace\n"
     ]
    }
   ],
   "source": [
    "print(\"1.2 Exponentiation efficace\")"
   ]
  },
  {
   "cell_type": "code",
   "execution_count": 18,
   "metadata": {},
   "outputs": [],
   "source": [
    "def s_w(m, k):\n",
    "    \n",
    "    n = bin(m)\n",
    "    n = n[2:]\n",
    "    n = n[::-1]\n",
    "    \n",
    "    x = { 1:2, 2:4 }\n",
    "    \n",
    "    for i in range(1, 2**(k-1) ) :\n",
    "        x[2*i+1] = 2**(2*i+1)\n",
    "    \n",
    "    etape = len( range(1, 2**(k-1) ) ) + 1\n",
    "    y, i = 1, len(n)-1\n",
    "    max_utile = 0\n",
    "\n",
    "    while i > -1 :\n",
    "        if n[i] == '0': \n",
    "            \n",
    "            y = y**2\n",
    "            i -= 1\n",
    "            etape += 1\n",
    "            \n",
    "        else :\n",
    "            for j in range(k):\n",
    "                lower = max(i-j,0)\n",
    "                if n[lower] == '1':\n",
    "                    d = int ( n[ lower : i+1], 2)\n",
    "                    e = lower\n",
    "\n",
    "            y = y**(2**(i-e+1))\n",
    "            \n",
    "            if y > 1 :\n",
    "                etape += i-e+1\n",
    "            \n",
    "            y = y*x[d]\n",
    "            max_utile = max(d, max_utile)\n",
    "            i = e-1\n",
    "\n",
    "            if y > x[ d ] :\n",
    "                etape += 1\n",
    "    \n",
    "    non_utile = [ 1 for i in x.keys() if i > max_utile ]\n",
    "    etape -= sum(non_utile)\n",
    "\n",
    "    return etape"
   ]
  },
  {
   "cell_type": "code",
   "execution_count": 19,
   "metadata": {},
   "outputs": [],
   "source": [
    "def minProd(k):\n",
    "    \n",
    "    S = 0\n",
    "    for a in range(2, k+1) :\n",
    "        max_window = len( bin(a) )-2\n",
    "        etapes = [ s_w(a, b) for b in range(1, max_window ) ]\n",
    "        S += min( etapes )\n",
    "    print( \"La somme des minProd de k pour k compris entre 1 et\", k,\"=\", S )"
   ]
  },
  {
   "cell_type": "code",
   "execution_count": 20,
   "metadata": {},
   "outputs": [
    {
     "name": "stdout",
     "output_type": "stream",
     "text": [
      "La somme des minProd de k pour k compris entre 1 et 200 = 1603\n"
     ]
    }
   ],
   "source": [
    "minProd(200)"
   ]
  },
  {
   "cell_type": "code",
   "execution_count": null,
   "metadata": {},
   "outputs": [],
   "source": []
  }
 ],
 "metadata": {
  "kernelspec": {
   "display_name": "Python 3",
   "language": "python",
   "name": "python3"
  },
  "language_info": {
   "codemirror_mode": {
    "name": "ipython",
    "version": 3
   },
   "file_extension": ".py",
   "mimetype": "text/x-python",
   "name": "python",
   "nbconvert_exporter": "python",
   "pygments_lexer": "ipython3",
   "version": "3.6.4"
  }
 },
 "nbformat": 4,
 "nbformat_minor": 2
}
