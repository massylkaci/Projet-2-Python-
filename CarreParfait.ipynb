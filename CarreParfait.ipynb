{
 "cells": [
  {
   "cell_type": "code",
   "execution_count": 3,
   "metadata": {},
   "outputs": [],
   "source": [
    "from math import *\n",
    "def C(a,b): #  Le carré parfait\n",
    "    L=[] \n",
    "    y=a\n",
    "    z=b\n",
    "    while(y<=z): \n",
    "        L.append(y) # On met dans L tous les nombres compris entre a et b\n",
    "        y=y+1\n",
    "    E=[]\n",
    "    i=1\n",
    "    j=(2**(len(L)))-1\n",
    "    while (i<=j):\n",
    "        D=[]\n",
    "        k=0\n",
    "        l=(len(L))-1\n",
    "        while(k<=l):\n",
    "            if ((i>>k) & (1==1)):\n",
    "                D.append(L[k])\n",
    "            k=k+1\n",
    "        E.append(D) # On met dans E tous les sous ensemble de l'ensemble L\n",
    "        i=i+1 \n",
    "    c=0 # c est le nombr des carrés parfaits de notre ensemble L, il est initialisé au départ à 0\n",
    "    i=0\n",
    "    while(i<(len(E))):\n",
    "        j=0\n",
    "        x=1\n",
    "        while(j<(len(E[i]))):\n",
    "            x=x*(E[i][j]) # On met dans x la valeur du produit de tous les éléments du i-ème sous ensemble de L\n",
    "            j=j+1\n",
    "        if ((sqrt(x))==int(sqrt(x))): \n",
    "            c=c+1 # Si x est un carré parfait, alors on ajoute 1 au nombres des carrés parfaits de notre ensemble L\n",
    "        i=i+1\n",
    "    print (\"C (\",a,\",\",b, \") =\" ,c) # Affichage du résultat\n",
    "    return c"
   ]
  },
  {
   "cell_type": "code",
   "execution_count": 6,
   "metadata": {},
   "outputs": [
    {
     "name": "stdout",
     "output_type": "stream",
     "text": [
      "C ( 40 , 55 ) = 15\n"
     ]
    },
    {
     "data": {
      "text/plain": [
       "15"
      ]
     },
     "execution_count": 6,
     "metadata": {},
     "output_type": "execute_result"
    }
   ],
   "source": [
    "C(40,55)"
   ]
  },
  {
   "cell_type": "code",
   "execution_count": null,
   "metadata": {},
   "outputs": [],
   "source": []
  }
 ],
 "metadata": {
  "kernelspec": {
   "display_name": "Python 3",
   "language": "python",
   "name": "python3"
  },
  "language_info": {
   "codemirror_mode": {
    "name": "ipython",
    "version": 3
   },
   "file_extension": ".py",
   "mimetype": "text/x-python",
   "name": "python",
   "nbconvert_exporter": "python",
   "pygments_lexer": "ipython3",
   "version": "3.6.4"
  }
 },
 "nbformat": 4,
 "nbformat_minor": 2
}
