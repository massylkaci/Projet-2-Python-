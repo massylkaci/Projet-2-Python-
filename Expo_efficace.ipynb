{
 "cells": [
  {
   "cell_type": "code",
   "execution_count": 15,
   "metadata": {},
   "outputs": [],
   "source": [
    "def s_w(m, k):\n",
    "    \n",
    "    n = bin(m)\n",
    "    n = n[2:]\n",
    "    n = n[::-1]\n",
    "    \n",
    "    x = { 1:2, 2:4 }\n",
    "    \n",
    "    for i in range(1, 2**(k-1) ) :\n",
    "        x[2*i+1] = 2**(2*i+1)\n",
    "    \n",
    "    etape = len( range(1, 2**(k-1) ) ) + 1\n",
    "    y, i = 1, len(n)-1\n",
    "    max_utile = 0\n",
    "\n",
    "    while i > -1 :\n",
    "        if n[i] == '0': \n",
    "            \n",
    "            y = y**2\n",
    "            i -= 1\n",
    "            etape += 1\n",
    "            \n",
    "        else :\n",
    "            for j in range(k):\n",
    "                lower = max(i-j,0)\n",
    "                if n[lower] == '1':\n",
    "                    d = int ( n[ lower : i+1], 2)\n",
    "                    e = lower\n",
    "\n",
    "            y = y**(2**(i-e+1))\n",
    "            \n",
    "            if y > 1 :\n",
    "                etape += i-e+1\n",
    "            \n",
    "            y = y*x[d]\n",
    "            max_utile = max(d, max_utile)\n",
    "            i = e-1\n",
    "\n",
    "            if y > x[ d ] :\n",
    "                etape += 1\n",
    "    \n",
    "    non_utile = [ 1 for i in x.keys() if i > max_utile ]\n",
    "    etape -= sum(non_utile)\n",
    "\n",
    "    return etape"
   ]
  },
  {
   "cell_type": "code",
   "execution_count": 16,
   "metadata": {},
   "outputs": [],
   "source": [
    "def minProd(k):\n",
    "    \n",
    "    S = 0\n",
    "    for a in range(2, k+1) :\n",
    "        max_window = len( bin(a) )-2\n",
    "        etapes = [ s_w(a, b) for b in range(1, max_window ) ]\n",
    "        S += min( etapes )\n",
    "    print( \"La somme des minProd de k pour k compris entre 1 et\", k,\"=\", S )"
   ]
  },
  {
   "cell_type": "code",
   "execution_count": 17,
   "metadata": {},
   "outputs": [
    {
     "name": "stdout",
     "output_type": "stream",
     "text": [
      "La somme des minProd de k pour k compris entre 1 et 200 = 1603\n"
     ]
    }
   ],
   "source": [
    "minProd(200)"
   ]
  },
  {
   "cell_type": "code",
   "execution_count": null,
   "metadata": {},
   "outputs": [],
   "source": []
  }
 ],
 "metadata": {
  "kernelspec": {
   "display_name": "Python 3",
   "language": "python",
   "name": "python3"
  },
  "language_info": {
   "codemirror_mode": {
    "name": "ipython",
    "version": 3
   },
   "file_extension": ".py",
   "mimetype": "text/x-python",
   "name": "python",
   "nbconvert_exporter": "python",
   "pygments_lexer": "ipython3",
   "version": "3.6.4"
  }
 },
 "nbformat": 4,
 "nbformat_minor": 2
}
